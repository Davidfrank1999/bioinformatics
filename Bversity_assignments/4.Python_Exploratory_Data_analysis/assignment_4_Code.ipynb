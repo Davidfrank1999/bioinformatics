{
 "cells": [
  {
   "cell_type": "markdown",
   "metadata": {},
   "source": [
    "This file code needs more refining to do"
   ]
  },
  {
   "cell_type": "code",
   "execution_count": null,
   "metadata": {},
   "outputs": [],
   "source": [
    "import pandas as pd\n",
    "import seaborn as sns\n",
    "import matplotlib.pyplot as plt"
   ]
  },
  {
   "cell_type": "code",
   "execution_count": null,
   "metadata": {},
   "outputs": [],
   "source": [
    "df = pd.read_csv('path to file')"
   ]
  },
  {
   "cell_type": "code",
   "execution_count": null,
   "metadata": {},
   "outputs": [],
   "source": [
    "df.head()\n"
   ]
  },
  {
   "cell_type": "code",
   "execution_count": null,
   "metadata": {},
   "outputs": [],
   "source": [
    "\n",
    "df.tail()"
   ]
  },
  {
   "cell_type": "code",
   "execution_count": null,
   "metadata": {},
   "outputs": [],
   "source": [
    "df.diagnosis.unique()\n",
    "df['diagnosis'].value_counts()"
   ]
  },
  {
   "cell_type": "markdown",
   "metadata": {},
   "source": [
    "## Cleaning"
   ]
  },
  {
   "cell_type": "code",
   "execution_count": null,
   "metadata": {},
   "outputs": [],
   "source": [
    "#Pandas converts 'NA' and null to NaN\n",
    "#Adding missing values in a list that pandas is unable to identify\n",
    "missing_value_formats = [\"n.a.\",\"?\",\"NA\",\"n/a\", \"na\", \"--\"]\n",
    "#Importing dataset\n",
    "df = pd.read_csv(\"data.txt\", na_values = missing_value_formats )\n",
    "#Checking the dimensions of the data\n",
    "print(\"Breast cancer data set dimensions : {}\".format(df.shape))"
   ]
  },
  {
   "cell_type": "markdown",
   "metadata": {},
   "source": [
    "removing the unwanted columns"
   ]
  },
  {
   "cell_type": "code",
   "execution_count": null,
   "metadata": {},
   "outputs": [],
   "source": [
    "df.drop('id',axis=1,inplace=True)\n",
    "\n",
    "df.drop('Unnamed: 32',axis=1,inplace=True)"
   ]
  },
  {
   "cell_type": "markdown",
   "metadata": {},
   "source": [
    "0.1 Missing values imputation"
   ]
  },
  {
   "cell_type": "code",
   "execution_count": null,
   "metadata": {},
   "outputs": [],
   "source": [
    "#Checking the number of missing values in each column\n",
    "df.isnull().sum()"
   ]
  },
  {
   "cell_type": "code",
   "execution_count": null,
   "metadata": {},
   "outputs": [],
   "source": [
    "#fraction of missing values in each column\n",
    "df.isnull().sum() * 100 / len(df)"
   ]
  },
  {
   "cell_type": "markdown",
   "metadata": {},
   "source": [
    "0.2 Checking the distrubution of the two features which contains missing data before imputing for the missing data"
   ]
  },
  {
   "cell_type": "code",
   "execution_count": null,
   "metadata": {},
   "outputs": [],
   "source": [
    "#Getting the summary statistics of the radius_mean feature using describe\n",
    "df[\"radius_mean\"].describe()\n",
    "df[\"area_mean\"].describe()"
   ]
  },
  {
   "cell_type": "code",
   "execution_count": null,
   "metadata": {},
   "outputs": [],
   "source": [
    "#fraction of missing values in each column\n",
    "df.isnull().sum() * 100 / len(df)"
   ]
  },
  {
   "cell_type": "code",
   "execution_count": null,
   "metadata": {},
   "outputs": [],
   "source": [
    "# Imputating the missing values\n",
    "df['radius_mean'].fillna(df['radius_mean'].mean(), inplace=True)\n",
    "df['area_mean'].fillna(df['area_mean'].mean(), inplace=True)"
   ]
  },
  {
   "cell_type": "markdown",
   "metadata": {},
   "source": [
    "--->outliers\n",
    "\n",
    "1. Distribution of \"fractal_dimension_worst\"\n"
   ]
  },
  {
   "cell_type": "code",
   "execution_count": null,
   "metadata": {},
   "outputs": [],
   "source": [
    "import seaborn as sns\n",
    "import matplotlib.pyplot as plt\n",
    "\n",
    "# distribution difference\n",
    "sns.boxplot(x='diagnosis', y='fractal_dimension_worst', data=df)\n",
    "plt.title('Distribution of fractal_dimension_worst between Benign and Malignant cases')\n",
    "plt.show()\n"
   ]
  },
  {
   "cell_type": "markdown",
   "metadata": {},
   "source": [
    "    2.Range and Skewness of \"radius_mean\"\n"
   ]
  },
  {
   "cell_type": "code",
   "execution_count": null,
   "metadata": {},
   "outputs": [],
   "source": [
    "# Range\n",
    "range_radius_mean = df['radius_mean'].max() - df['radius_mean'].min()\n",
    "\n",
    "# Skewness\n",
    "skewness_radius_mean = df['radius_mean'].skew()\n",
    "\n",
    "print(f\"Range of radius_mean: {range_radius_mean}\")\n",
    "print(f\"Skewness of radius_mean: {skewness_radius_mean}\")"
   ]
  },
  {
   "cell_type": "markdown",
   "metadata": {},
   "source": [
    "3. Outliers in \"area_mean\" and their impact"
   ]
  },
  {
   "cell_type": "code",
   "execution_count": null,
   "metadata": {},
   "outputs": [],
   "source": [
    "df[\"area_mean\"].describe()"
   ]
  },
  {
   "cell_type": "code",
   "execution_count": null,
   "metadata": {},
   "outputs": [],
   "source": [
    "# Boxplot to identify outliers\n",
    "sns.boxplot(x='area_mean', data=df)\n",
    "plt.title('Boxplot of area_mean')\n",
    "plt.show()"
   ]
  },
  {
   "cell_type": "code",
   "execution_count": null,
   "metadata": {},
   "outputs": [],
   "source": [
    "#Histogram and boxplot to visualize the distribution of the data and detection of outliers\n",
    "\n",
    "sns.set(style=\"ticks\")\n",
    "f, (ax_box, ax_hist) = plt.subplots(2, sharex=True, \n",
    "                                    gridspec_kw={\"height_ratios\": (.20, .90)})\n",
    "sns.boxplot(df[\"area_mean\"], ax =  ax_box, color = \"blue\")\n",
    "sns.histplot(df[\"area_mean\"],ax = ax_hist,  kde = True , color = \"blue\")\n",
    "\n",
    "\n",
    "# Labeling the x-axis\n",
    "ax_hist.set_xlabel(\"Area Mean\", fontsize=12)\n",
    "\n",
    "ax_box.set(yticks=[])\n",
    "sns.despine(ax=ax_hist)\n",
    "sns.despine(ax=ax_box)\n",
    "\n",
    "plt.show()"
   ]
  },
  {
   "cell_type": "markdown",
   "metadata": {},
   "source": [
    "x axis"
   ]
  },
  {
   "cell_type": "code",
   "execution_count": null,
   "metadata": {},
   "outputs": [],
   "source": [
    "# Assuming df is your DataFrame\n",
    "\n",
    "sns.set(style=\"ticks\")\n",
    "f, (ax_box, ax_hist) = plt.subplots(2, sharex=False, \n",
    "                                    gridspec_kw={\"height_ratios\": (.20, .90)})\n",
    "\n",
    "sns.boxplot(df[\"area_mean\"], ax=ax_box, color=\"blue\")\n",
    "sns.histplot(df[\"area_mean\"], ax=ax_hist, kde=True, color=\"blue\")\n",
    "\n",
    "ax_box.set(yticks=[])\n",
    "sns.despine(ax=ax_hist)\n",
    "sns.despine(ax=ax_box)\n",
    "\n",
    "plt.show()\n"
   ]
  },
  {
   "cell_type": "markdown",
   "metadata": {},
   "source": [
    "check graph before and after"
   ]
  },
  {
   "cell_type": "code",
   "execution_count": null,
   "metadata": {},
   "outputs": [],
   "source": [
    "# Impact on analysis\n",
    "## Identify outliers using the IQR method\n",
    "outliers = df[df['area_mean'] > (1.5 * df['area_mean'].quantile(0.75))]\n",
    "\n",
    "## Print the identified outliers\n",
    "print(\"Outliers in area_mean:\")\n",
    "print(outliers)"
   ]
  },
  {
   "cell_type": "markdown",
   "metadata": {},
   "source": [
    "or"
   ]
  },
  {
   "cell_type": "code",
   "execution_count": null,
   "metadata": {},
   "outputs": [],
   "source": [
    "outlier_upper_bound = 1.5 * df['area_mean'].quantile(0.75)\n",
    "\n",
    "# Create a new DataFrame without outliers\n",
    "df_outlierRemove = df.loc[df['area_mean'] <= outlier_upper_bound]\n",
    "\n",
    "# Display descriptive statistics for the 'area_mean' column in the new DataFrame\n",
    "print(df_outlierRemove[\"area_mean\"].describe())\n"
   ]
  },
  {
   "cell_type": "code",
   "execution_count": null,
   "metadata": {},
   "outputs": [],
   "source": [
    "outlier_upper_bound = 1.5 * df['area_mean'].quantile(0.75)\n",
    "\n",
    "# Count the number of outliers\n",
    "num_outliers = len(df[df['area_mean'] > outlier_upper_bound])\n",
    "\n",
    "# Print the number of outliers\n",
    "print(\"Number of outliers in area_mean:\", num_outliers)\n"
   ]
  },
  {
   "cell_type": "code",
   "execution_count": null,
   "metadata": {},
   "outputs": [],
   "source": [
    "# Correlation matrix\n",
    "corr_matrix = df.corr()\n",
    "sns.heatmap(corr_matrix[['diagnosis']], annot=True, cmap='coolwarm')\n",
    "plt.title('Correlation with Diagnosis')\n",
    "plt.show()\n"
   ]
  },
  {
   "cell_type": "markdown",
   "metadata": {},
   "source": [
    "with pairplot"
   ]
  },
  {
   "cell_type": "code",
   "execution_count": null,
   "metadata": {},
   "outputs": [],
   "source": [
    "import seaborn as sns\n",
    "import matplotlib.pyplot as plt\n",
    "\n",
    "# Assuming your DataFrame is named 'df'\n",
    "# Add any necessary data preprocessing steps here\n",
    "\n",
    "# Select relevant columns for pairplot\n",
    "columns_for_pairplot = ['diagnosis', 'radius_mean', 'texture_mean', 'perimeter_mean', 'area_mean',\n",
    "                        'smoothness_mean', 'compactness_mean', 'concavity_mean', 'concave_points_mean',\n",
    "                        'symmetry_mean', 'fractal_dimension_mean']\n",
    "\n",
    "# Create pairplot\n",
    "sns.pairplot(df[columns_for_pairplot], hue='diagnosis', diag_kind='kde')\n",
    "plt.suptitle(\"Pairplot of Features with Diagnosis\", y=1.02)\n",
    "plt.show()\n"
   ]
  },
  {
   "cell_type": "markdown",
   "metadata": {},
   "source": [
    "5. Limitations in the data"
   ]
  },
  {
   "cell_type": "code",
   "execution_count": null,
   "metadata": {},
   "outputs": [],
   "source": [
    "# Check for missing values\n",
    "missing_values = df.isnull().sum()\n",
    "\n",
    "# Consider class distribution\n",
    "class_distribution = df['diagnosis'].value_counts()\n",
    "\n",
    "print(\"Missing Values:\")\n",
    "print(missing_values)\n",
    "print(\"\\nClass Distribution:\")\n",
    "print(class_distribution)\n"
   ]
  }
 ],
 "metadata": {
  "language_info": {
   "name": "python"
  }
 },
 "nbformat": 4,
 "nbformat_minor": 2
}
