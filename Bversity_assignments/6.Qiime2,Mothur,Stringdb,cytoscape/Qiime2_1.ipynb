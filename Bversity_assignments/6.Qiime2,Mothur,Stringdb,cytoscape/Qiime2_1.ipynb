{
 "cells": [
  {
   "cell_type": "code",
   "execution_count": 3,
   "metadata": {},
   "outputs": [],
   "source": [
    "\n",
    "import qiime2"
   ]
  },
  {
   "cell_type": "code",
   "execution_count": 6,
   "metadata": {},
   "outputs": [],
   "source": [
    "# Manifest file\n",
    "\n",
    "!echo \"# paired-end PHRED 33 fastq manifest file for forward and reverse reads\" > manifest1.txt\n",
    "!echo -e \"sample-id\\tforward-absolute-filepath\\treverse-absolute-filepath\" >> manifest1.txt\n",
    "!ls *.fastq | cut -d \"_\" -f 1 | sort | uniq | parallel -j0 --keep-order 'echo -e \"{/}\\t\"$PWD\"/{/}_1.fastq\\t\"$PWD\"/{/}_2.fastq\"' | tr -d \"'\" > manifest2.txt\n",
    "!mkdir manifest\n",
    "!cat manifest1.txt manifest2.txt > manifest/manifest.tsv\n"
   ]
  },
  {
   "cell_type": "markdown",
   "metadata": {},
   "source": [
    "## 2. Importing Data"
   ]
  },
  {
   "cell_type": "code",
   "execution_count": 7,
   "metadata": {},
   "outputs": [
    {
     "name": "stdout",
     "output_type": "stream",
     "text": [
      "\u001b[32mImported manifest/manifest.tsv as PairedEndFastqManifestPhred33V2 to demux.qza\u001b[0m\n",
      "\u001b[0m"
     ]
    }
   ],
   "source": [
    "!qiime tools import \\\n",
    "--type 'SampleData[PairedEndSequencesWithQuality]' \\\n",
    "--input-path manifest/manifest.tsv \\\n",
    "--output-path demux.qza \\\n",
    "--input-format PairedEndFastqManifestPhred33V2\n"
   ]
  },
  {
   "cell_type": "code",
   "execution_count": 9,
   "metadata": {},
   "outputs": [],
   "source": [
    "#############################################################################\n",
    "# Summarize Data\n",
    "#!qiime feature-table tabulate-seqs \\\n",
    "#  --i-data demux.qza \\\n",
    "#  --o-visualization initial_demux.qza_summary.qzv\n",
    "\n",
    "#                     There was a problem with the command:                     \n",
    "# (1/1) Invalid value for '--i-data': Expected an artifact of at least type\n",
    "#  FeatureData[Sequence | AlignedSequence]. An artifact of type\n",
    "#  SampleData[PairedEndSequencesWithQuality] was provided.\n",
    "########################################"
   ]
  },
  {
   "cell_type": "code",
   "execution_count": 12,
   "metadata": {},
   "outputs": [
    {
     "name": "stdout",
     "output_type": "stream",
     "text": [
      "\u001b[32mSaved Visualization to: qualities.qzv\u001b[0m\n",
      "\u001b[0m"
     ]
    }
   ],
   "source": [
    "# summarize and analyse (qiime2 view) before next step\n",
    "!qiime demux summarize \\\n",
    "\t--i-data demux.qza \\\n",
    "\t--o-visualization qualities.qzv"
   ]
  },
  {
   "cell_type": "code",
   "execution_count": 21,
   "metadata": {},
   "outputs": [
    {
     "name": "stdout",
     "output_type": "stream",
     "text": [
      "Running external command line application(s). This may print messages to stdout and/or stderr.\n",
      "The command(s) being run are below. These commands cannot be manually re-run as they will depend on temporary files that no longer exist.\n",
      "\n",
      "Command: run_dada.R --input_directory /tmp/tmp0oov0k4f/forward --input_directory_reverse /tmp/tmp0oov0k4f/reverse --output_path /tmp/tmp0oov0k4f/output.tsv.biom --output_track /tmp/tmp0oov0k4f/track.tsv --filtered_directory /tmp/tmp0oov0k4f/filt_f --filtered_directory_reverse /tmp/tmp0oov0k4f/filt_r --truncation_length 240 --truncation_length_reverse 240 --trim_left 15 --trim_left_reverse 15 --max_expected_errors 2.0 --max_expected_errors_reverse 2.0 --truncation_quality_score 2 --min_overlap 12 --pooling_method independent --chimera_method consensus --min_parental_fold 1.0 --allow_one_off False --num_threads 1 --learn_min_reads 1000000\n",
      "\n",
      "Warning message:\n",
      "package ‘optparse’ was built under R version 4.2.3 \n",
      "R version 4.2.2 (2022-10-31) \n",
      "Loading required package: Rcpp\n",
      "\u001b[?25hDADA2: 1.26.0 / Rcpp: 1.0.11 / RcppParallel: 5.1.6 \n",
      "\u001b[?25h\u001b[?25h2) Filtering \u001b[?25h\u001b[?25h.....\u001b[?25h\u001b[?25h\u001b[?25h\n",
      "\u001b[?25h\u001b[?25h3) Learning Error Rates\n",
      "\u001b[?25h49934475 total bases in 221931 reads from 5 samples will be used for learning the error rates.\n",
      "49934475 total bases in 221931 reads from 5 samples will be used for learning the error rates.\n",
      "\u001b[?25h3) Denoise samples .....\n",
      ".....\n",
      "\u001b[?25h5) Remove chimeras (method = consensus)\n",
      "\u001b[?25h\u001b[?25h6) Report read numbers through the pipeline\n",
      "\u001b[?25h\u001b[?25h7) Write output\n",
      "\u001b[?25h\u001b[?25h\u001b[?25h\u001b[?25h\u001b[?25h\u001b[?25h\u001b[?25h\u001b[32mSaved FeatureTable[Frequency] to: table.qza\u001b[0m\n",
      "\u001b[32mSaved FeatureData[Sequence] to: rep-seqs.qza\u001b[0m\n",
      "\u001b[32mSaved SampleData[DADA2Stats] to: denoising-stats.qza\u001b[0m\n",
      "\u001b[0m"
     ]
    }
   ],
   "source": [
    "#3. Sequence Quality Control and Feature Table Construction\n",
    "\n",
    "!qiime dada2 denoise-paired \\\n",
    "  --i-demultiplexed-seqs demux.qza \\\n",
    "  --p-trim-left-f 15 \\\n",
    "  --p-trim-left-r 15 \\\n",
    "  --p-trunc-len-f 240 \\\n",
    "  --p-trunc-len-r 240 \\\n",
    "  --o-table table.qza \\\n",
    "  --o-representative-sequences rep-seqs.qza \\\n",
    "  --o-denoising-stats denoising-stats.qza \\\n",
    "  --output-dir dada2_output --verbose\n"
   ]
  },
  {
   "cell_type": "code",
   "execution_count": 22,
   "metadata": {},
   "outputs": [
    {
     "name": "stdout",
     "output_type": "stream",
     "text": [
      "\u001b[32mSaved Visualization to: stats.qzv\u001b[0m\n",
      "\u001b[0m"
     ]
    }
   ],
   "source": [
    "# 4. Summarice data Quality\n",
    "!qiime metadata tabulate \\\n",
    "  --m-input-file denoising-stats.qza \\\n",
    "  --o-visualization stats.qzv\n"
   ]
  },
  {
   "cell_type": "code",
   "execution_count": 29,
   "metadata": {},
   "outputs": [
    {
     "name": "stdout",
     "output_type": "stream",
     "text": [
      "\u001b[32mSaved Visualization to: table2.qzv\u001b[0m\n",
      "\u001b[0m"
     ]
    }
   ],
   "source": [
    "# meta data can be downloaded from previous stats.qza--> \n",
    "# 5. Feature Table and Feature Data Summaries\n",
    "!qiime feature-table summarize \\\n",
    "  --i-table table.qza \\\n",
    "  --o-visualization table2.qzv \\\n",
    "  --m-sample-metadata-file metadata.tsv"
   ]
  },
  {
   "cell_type": "code",
   "execution_count": 24,
   "metadata": {},
   "outputs": [
    {
     "name": "stdout",
     "output_type": "stream",
     "text": [
      "\u001b[32mSaved Visualization to: table.qzv\u001b[0m\n",
      "\u001b[0m\u001b[32mSaved Visualization to: rep-seqs.qzv\u001b[0m\n",
      "\u001b[0m"
     ]
    }
   ],
   "source": [
    "# 5. Feature Table and Feature Data Summaries\n",
    "!qiime feature-table summarize \\\n",
    "  --i-table table.qza \\\n",
    "  --o-visualization table.qzv \\\n",
    "#  --m-sample-metadata-file meta_data_asai6.tsv\n",
    "!qiime feature-table tabulate-seqs \\\n",
    "  --i-data rep-seqs.qza \\\n",
    "  --o-visualization rep-seqs.qzv\n"
   ]
  },
  {
   "cell_type": "code",
   "execution_count": 26,
   "metadata": {},
   "outputs": [
    {
     "name": "stdout",
     "output_type": "stream",
     "text": [
      "\u001b[32mSaved FeatureData[AlignedSequence] to: aligned-rep-seqs.qza\u001b[0m\n",
      "\u001b[32mSaved FeatureData[AlignedSequence] to: masked-aligned-rep-seqs.qza\u001b[0m\n",
      "\u001b[32mSaved Phylogeny[Unrooted] to: unrooted-tree.qza\u001b[0m\n",
      "\u001b[32mSaved Phylogeny[Rooted] to: rooted-tree.qza\u001b[0m\n",
      "\u001b[0m"
     ]
    }
   ],
   "source": [
    "# 6.Generate Phylogenetic Tree\n",
    "!qiime phylogeny align-to-tree-mafft-fasttree \\\n",
    "  --i-sequences rep-seqs.qza \\\n",
    "  --o-alignment aligned-rep-seqs.qza \\\n",
    "  --o-masked-alignment masked-aligned-rep-seqs.qza \\\n",
    "  --o-tree unrooted-tree.qza \\\n",
    "  --o-rooted-tree rooted-tree.qza\n"
   ]
  },
  {
   "cell_type": "code",
   "execution_count": 1,
   "metadata": {},
   "outputs": [
    {
     "name": "stdout",
     "output_type": "stream",
     "text": [
      "\u001b[32mSaved FeatureTable[Frequency] to: core-metrics-results/rarefied_table.qza\u001b[0m\n",
      "\u001b[32mSaved SampleData[AlphaDiversity] to: core-metrics-results/faith_pd_vector.qza\u001b[0m\n",
      "\u001b[32mSaved SampleData[AlphaDiversity] to: core-metrics-results/observed_features_vector.qza\u001b[0m\n",
      "\u001b[32mSaved SampleData[AlphaDiversity] to: core-metrics-results/shannon_vector.qza\u001b[0m\n",
      "\u001b[32mSaved SampleData[AlphaDiversity] to: core-metrics-results/evenness_vector.qza\u001b[0m\n",
      "\u001b[32mSaved DistanceMatrix to: core-metrics-results/unweighted_unifrac_distance_matrix.qza\u001b[0m\n",
      "\u001b[32mSaved DistanceMatrix to: core-metrics-results/weighted_unifrac_distance_matrix.qza\u001b[0m\n",
      "\u001b[32mSaved DistanceMatrix to: core-metrics-results/jaccard_distance_matrix.qza\u001b[0m\n",
      "\u001b[32mSaved DistanceMatrix to: core-metrics-results/bray_curtis_distance_matrix.qza\u001b[0m\n",
      "\u001b[32mSaved PCoAResults to: core-metrics-results/unweighted_unifrac_pcoa_results.qza\u001b[0m\n",
      "\u001b[32mSaved PCoAResults to: core-metrics-results/weighted_unifrac_pcoa_results.qza\u001b[0m\n",
      "\u001b[32mSaved PCoAResults to: core-metrics-results/jaccard_pcoa_results.qza\u001b[0m\n",
      "\u001b[32mSaved PCoAResults to: core-metrics-results/bray_curtis_pcoa_results.qza\u001b[0m\n",
      "\u001b[32mSaved Visualization to: core-metrics-results/unweighted_unifrac_emperor.qzv\u001b[0m\n",
      "\u001b[32mSaved Visualization to: core-metrics-results/weighted_unifrac_emperor.qzv\u001b[0m\n",
      "\u001b[32mSaved Visualization to: core-metrics-results/jaccard_emperor.qzv\u001b[0m\n",
      "\u001b[32mSaved Visualization to: core-metrics-results/bray_curtis_emperor.qzv\u001b[0m\n",
      "\u001b[0m"
     ]
    }
   ],
   "source": [
    "# 7. Alpha and Beta Diversity Analysis\n",
    "!qiime diversity core-metrics-phylogenetic \\\n",
    "  --i-phylogeny rooted-tree.qza \\\n",
    "  --i-table table.qza \\\n",
    "  --p-sampling-depth 210 \\\n",
    "    # 11843 \\\n",
    "  --m-metadata-file metadata.tsv \\\n",
    "  --output-dir core-metrics-results"
   ]
  },
  {
   "cell_type": "code",
   "execution_count": 6,
   "metadata": {},
   "outputs": [
    {
     "name": "stdout",
     "output_type": "stream",
     "text": [
      "\u001b[31m\u001b[1mPlugin error from diversity:\n",
      "\n",
      "  Metadata does not contain any columns that satisfy this visualizer's requirements. There must be at least one metadata column that contains categorical data, isn't empty, doesn't consist of unique values, and doesn't consist of exactly one value.\n",
      "\n",
      "Debug info has been saved to /tmp/qiime2-q2cli-err-e_hwnu6y.log\u001b[0m\n",
      "\u001b[0m"
     ]
    }
   ],
   "source": [
    "#14 b. Alpha Group Significance:\n",
    "!qiime diversity alpha-group-significance \\\n",
    "  --i-alpha-diversity core-metrics-results/faith_pd_vector.qza \\\n",
    "  --m-metadata-file metadata.tsv\\\n",
    "  --o-visualization core-metrics-results/faith-pd-group-significance.qzv\n"
   ]
  },
  {
   "cell_type": "code",
   "execution_count": 9,
   "metadata": {},
   "outputs": [
    {
     "name": "stdout",
     "output_type": "stream",
     "text": [
      "\u001b[31m\u001b[1mPlugin error from diversity:\n",
      "\n",
      "  Metadata does not contain any columns that satisfy this visualizer's requirements. There must be at least one metadata column that contains categorical data, isn't empty, doesn't consist of unique values, and doesn't consist of exactly one value.\n",
      "\n",
      "Debug info has been saved to /tmp/qiime2-q2cli-err-u29ozui_.log\u001b[0m\n",
      "\u001b[0m"
     ]
    }
   ],
   "source": [
    "#15. evenness\n",
    "!qiime diversity alpha-group-significance \\\n",
    "  --i-alpha-diversity core-metrics-results/evenness_vector.qza \\\n",
    "  --m-metadata-file metadata.tsv \\\n",
    "  --o-visualization core-metrics-results/evenness-group-significance.qzv\n"
   ]
  },
  {
   "cell_type": "code",
   "execution_count": 19,
   "metadata": {},
   "outputs": [
    {
     "name": "stdout",
     "output_type": "stream",
     "text": [
      "\u001b[31m\u001b[1mPlugin error from diversity:\n",
      "\n",
      "  All values in the grouping vector are the same. This method cannot operate on a grouping vector with only a single group of objects (e.g., there are no 'between' distances because there is only a single group).\n",
      "\n",
      "Debug info has been saved to /tmp/qiime2-q2cli-err-wk8has74.log\u001b[0m\n",
      "\u001b[0m"
     ]
    }
   ],
   "source": [
    "#16 Beta diversity\n",
    "!qiime diversity beta-group-significance \\\n",
    "  --i-distance-matrix core-metrics-results/unweighted_unifrac_distance_matrix.qza \\\n",
    "  --m-metadata-file metadata.tsv \\\n",
    "  --m-metadata-column organism \\\n",
    "  --o-visualization core-metrics-results/unweighted-unifrac-body-site-significance.qzv \\\n",
    "  --p-pairwise\n"
   ]
  },
  {
   "cell_type": "code",
   "execution_count": 11,
   "metadata": {},
   "outputs": [
    {
     "name": "stdout",
     "output_type": "stream",
     "text": [
      "\u001b[32mSaved Visualization to: core-metrics-results/plot1.qzv\u001b[0m\n",
      "\u001b[0m"
     ]
    }
   ],
   "source": [
    "#17 plot\n",
    "!qiime emperor plot \\\n",
    "  --i-pcoa core-metrics-results/unweighted_unifrac_pcoa_results.qza \\\n",
    "  --m-metadata-file metadata.tsv \\\n",
    "  --o-visualization core-metrics-results/plot1.qzv\n",
    "\n"
   ]
  },
  {
   "cell_type": "code",
   "execution_count": 18,
   "metadata": {},
   "outputs": [
    {
     "name": "stdout",
     "output_type": "stream",
     "text": [
      "\u001b[31m\u001b[1mPlugin error from diversity:\n",
      "\n",
      "  All metadata filtered after dropping columns that contained non-categorical data.\n",
      "\n",
      "Debug info has been saved to /tmp/qiime2-q2cli-err-3e2a5adc.log\u001b[0m\n",
      "\u001b[0m"
     ]
    }
   ],
   "source": [
    "#18 Alpha rarefaction plotting\n",
    "\n",
    "!qiime diversity alpha-rarefaction \\\n",
    "  --i-table table.qza \\\n",
    "  --i-phylogeny rooted-tree.qza \\\n",
    "  --p-max-depth 11843 \\\n",
    "  --m-metadata-file metadata.tsv \\\n",
    "  --o-visualization alpha-rarefaction.qzv\n",
    "\n"
   ]
  },
  {
   "cell_type": "code",
   "execution_count": 21,
   "metadata": {},
   "outputs": [
    {
     "name": "stdout",
     "output_type": "stream",
     "text": [
      "--2024-01-06 22:12:13--  https://data.qiime2.org/2023.9/common/gg-13-8-99-515-806-nb-classifier.qza\n",
      "Resolving data.qiime2.org (data.qiime2.org)... 54.200.1.12\n",
      "Connecting to data.qiime2.org (data.qiime2.org)|54.200.1.12|:443... connected.\n",
      "HTTP request sent, awaiting response... 302 FOUND\n",
      "Location: https://s3-us-west-2.amazonaws.com/qiime2-data/2023.9/common/gg-13-8-99-515-806-nb-classifier.qza [following]\n",
      "--2024-01-06 22:12:15--  https://s3-us-west-2.amazonaws.com/qiime2-data/2023.9/common/gg-13-8-99-515-806-nb-classifier.qza\n",
      "Resolving s3-us-west-2.amazonaws.com (s3-us-west-2.amazonaws.com)... 52.218.183.104, 52.92.137.104, 52.92.210.64, ...\n",
      "Connecting to s3-us-west-2.amazonaws.com (s3-us-west-2.amazonaws.com)|52.218.183.104|:443... connected.\n",
      "HTTP request sent, awaiting response... 200 OK\n",
      "Length: 28289645 (27M) [binary/octet-stream]\n",
      "Saving to: ‘gg-13-8-99-515-806-nb-classifier.qza’\n",
      "\n",
      "gg-13-8-99-515-806- 100%[===================>]  26.98M   134KB/s    in 4m 3s   \n",
      "\n",
      "2024-01-06 22:16:20 (114 KB/s) - ‘gg-13-8-99-515-806-nb-classifier.qza’ saved [28289645/28289645]\n",
      "\n"
     ]
    }
   ],
   "source": [
    "#Taxonomic analysis\n",
    "#19 download\n",
    "!wget \\\n",
    "  -O \"gg-13-8-99-515-806-nb-classifier.qza\" \\\n",
    "  \"https://data.qiime2.org/2023.9/common/gg-13-8-99-515-806-nb-classifier.qza\"\n"
   ]
  },
  {
   "cell_type": "code",
   "execution_count": 23,
   "metadata": {},
   "outputs": [
    {
     "name": "stdout",
     "output_type": "stream",
     "text": [
      "\u001b[32mSaved FeatureData[Taxonomy] to: taxonomy.qza\u001b[0m\n",
      "\u001b[0m"
     ]
    }
   ],
   "source": [
    "#20. Taxanomy analysis\n",
    "!qiime feature-classifier classify-sklearn \\\n",
    "  --i-classifier gg-13-8-99-515-806-nb-classifier.qza \\\n",
    "  --i-reads rep-seqs.qza \\\n",
    "  --o-classification taxonomy.qza\n"
   ]
  },
  {
   "cell_type": "code",
   "execution_count": 24,
   "metadata": {},
   "outputs": [
    {
     "name": "stdout",
     "output_type": "stream",
     "text": [
      "\u001b[32mSaved Visualization to: taxonomy.qzv\u001b[0m\n",
      "\u001b[0m"
     ]
    }
   ],
   "source": [
    "#21\n",
    "!qiime metadata tabulate \\\n",
    "  --m-input-file taxonomy.qza \\\n",
    "  --o-visualization taxonomy.qzv"
   ]
  },
  {
   "cell_type": "code",
   "execution_count": 1,
   "metadata": {},
   "outputs": [
    {
     "name": "stdout",
     "output_type": "stream",
     "text": [
      "\u001b[32mSaved Visualization to: taxa-bar-plots.qzv\u001b[0m\n",
      "\u001b[0m"
     ]
    }
   ],
   "source": [
    "#22 barplot\n",
    "!qiime taxa barplot \\\n",
    "  --i-table table.qza \\\n",
    "  --i-taxonomy taxonomy.qza \\\n",
    "  --m-metadata-file metadata.tsv \\\n",
    "  --o-visualization taxa-bar-plots.qzv"
   ]
  },
  {
   "cell_type": "code",
   "execution_count": 3,
   "metadata": {},
   "outputs": [
    {
     "name": "stdout",
     "output_type": "stream",
     "text": [
      "\u001b[32mSaved FeatureTable[Frequency] to: diff-abundance-table.qza\u001b[0m\n",
      "\u001b[0m"
     ]
    }
   ],
   "source": [
    "#Differential abundance testing with ANCOM\n",
    "#23\n",
    "!qiime feature-table filter-samples \\\n",
    "  --i-table table.qza \\\n",
    "  --m-metadata-file metadata.tsv \\\n",
    "  --o-filtered-table diff-abundance-table.qza\n"
   ]
  },
  {
   "cell_type": "code",
   "execution_count": 5,
   "metadata": {},
   "outputs": [
    {
     "name": "stdout",
     "output_type": "stream",
     "text": [
      "\u001b[32mSaved FeatureTable[Composition] to: diff-abundance-table.qza\u001b[0m\n",
      "\u001b[0m"
     ]
    }
   ],
   "source": [
    "#24\n",
    "!qiime composition add-pseudocount \\\n",
    "  --i-table diff-abundance-table.qza \\\n",
    "  --o-composition-table diff-abundance-table.qza\n"
   ]
  },
  {
   "cell_type": "code",
   "execution_count": 10,
   "metadata": {},
   "outputs": [
    {
     "name": "stdout",
     "output_type": "stream",
     "text": [
      "\u001b[31m\u001b[1mPlugin error from composition:\n",
      "\n",
      "  All values in `grouping` are unique. This method cannot operate on a grouping vector with only unique values (e.g., there are no 'within' variance because each group of samples contains only a single sample).\n",
      "\n",
      "Debug info has been saved to /tmp/qiime2-q2cli-err-r64glmht.log\u001b[0m\n",
      "\u001b[0m"
     ]
    }
   ],
   "source": [
    "#25 ancom\n",
    "!qiime composition ancom \\\n",
    "  --i-table diff-abundance-table.qza \\\n",
    "  --m-metadata-file metadata.tsv \\\n",
    "  --m-metadata-column sample \\\n",
    "  --o-visualization ancom-organism.qzv\n",
    "\n"
   ]
  },
  {
   "cell_type": "code",
   "execution_count": 13,
   "metadata": {},
   "outputs": [
    {
     "name": "stdout",
     "output_type": "stream",
     "text": [
      "Usage: \u001b[94mqiime taxa collapse\u001b[0m [OPTIONS]\n",
      "\n",
      "  Collapse groups of features that have the same taxonomic assignment through\n",
      "  the specified level. The frequencies of all features will be summed when\n",
      "  they are collapsed.\n",
      "\n",
      "\u001b[1mInputs\u001b[0m:\n",
      "  \u001b[94m\u001b[4m--i-table\u001b[0m ARTIFACT \u001b[32mFeatureTable[Frequency]\u001b[0m\n",
      "                         Feature table to be collapsed.             \u001b[35m[required]\u001b[0m\n",
      "  \u001b[94m\u001b[4m--i-taxonomy\u001b[0m ARTIFACT \u001b[32mFeatureData[Taxonomy]\u001b[0m\n",
      "                         Taxonomic annotations for features in the provided\n",
      "                         feature table. All features in the feature table must\n",
      "                         have a corresponding taxonomic annotation. Taxonomic\n",
      "                         annotations that are not present in the feature table\n",
      "                         will be ignored.                           \u001b[35m[required]\u001b[0m\n",
      "\u001b[1mParameters\u001b[0m:\n",
      "  \u001b[94m\u001b[4m--p-level\u001b[0m INTEGER      The taxonomic level at which the features should be\n",
      "                         collapsed. All ouput features will have exactly this\n",
      "                         many levels of taxonomic annotation.       \u001b[35m[required]\u001b[0m\n",
      "\u001b[1mOutputs\u001b[0m:\n",
      "  \u001b[94m\u001b[4m--o-collapsed-table\u001b[0m ARTIFACT \u001b[32mFeatureTable[Frequency]\u001b[0m\n",
      "                         The resulting feature table, where all features are\n",
      "                         now taxonomic annotations with the user-specified\n",
      "                         number of levels.                          \u001b[35m[required]\u001b[0m\n",
      "\u001b[1mMiscellaneous\u001b[0m:\n",
      "  \u001b[94m--output-dir\u001b[0m PATH      Output unspecified results to a directory\n",
      "  \u001b[94m--verbose\u001b[0m / \u001b[94m--quiet\u001b[0m    Display verbose output to stdout and/or stderr\n",
      "                         during execution of this action. Or silence output if\n",
      "                         execution is successful (silence is golden).\n",
      "  \u001b[94m--example-data\u001b[0m PATH    Write example data and exit.\n",
      "  \u001b[94m--citations\u001b[0m            Show citations and exit.\n",
      "  \u001b[94m--help\u001b[0m                 Show this message and exit.\n",
      "\n",
      "\u001b[1mExamples\u001b[0m:\n",
      "  # ### example: collapse\n",
      "  qiime taxa collapse \\\n",
      "    --i-table table.qza \\\n",
      "    --i-taxonomy taxonomy.qza \\\n",
      "    --p-level 6 \\\n",
      "    --o-collapsed-table collapsed-table-l6.qza\n",
      "  \n",
      "\n",
      "\u001b[33m                    There was a problem with the command:                     \u001b[0m\n",
      "\u001b[31m\u001b[1m (1/1) Invalid value for '--i-table': Expected an artifact of at least type\n",
      "  FeatureTable[Frequency]. An artifact of type FeatureTable[Composition] was\n",
      "  provided.\u001b[0m\n",
      "\u001b[0m"
     ]
    }
   ],
   "source": [
    "#26 taxa collapse\n",
    "!qiime taxa collapse \\\n",
    "  --i-table /home/frank/Documents/Bioinfromatics/Assignment/assi6/2.Qiime/diff-abundance-table.qza \\\n",
    "  --i-taxonomy taxonomy.qza \\\n",
    "  --p-level 6 \\\n",
    "  --o-collapsed-table gut-table-l6.qza\n",
    "\n"
   ]
  }
 ],
 "metadata": {
  "kernelspec": {
   "display_name": "qiime2-amplicon-2023.9",
   "language": "python",
   "name": "python3"
  },
  "language_info": {
   "codemirror_mode": {
    "name": "ipython",
    "version": 3
   },
   "file_extension": ".py",
   "mimetype": "text/x-python",
   "name": "python",
   "nbconvert_exporter": "python",
   "pygments_lexer": "ipython3",
   "version": "3.8.15"
  }
 },
 "nbformat": 4,
 "nbformat_minor": 2
}
